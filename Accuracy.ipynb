{
  "nbformat": 4,
  "nbformat_minor": 0,
  "metadata": {
    "colab": {
      "name": "Accuracy",
      "provenance": [],
      "authorship_tag": "ABX9TyOQUe4nYSgm9xYbhghOa6wu",
      "include_colab_link": true
    },
    "kernelspec": {
      "name": "python3",
      "display_name": "Python 3"
    },
    "language_info": {
      "name": "python"
    }
  },
  "cells": [
    {
      "cell_type": "markdown",
      "metadata": {
        "id": "view-in-github",
        "colab_type": "text"
      },
      "source": [
        "<a href=\"https://colab.research.google.com/github/Sruthi-2002/Cubic/blob/main/Accuracy.ipynb\" target=\"_parent\"><img src=\"https://colab.research.google.com/assets/colab-badge.svg\" alt=\"Open In Colab\"/></a>"
      ]
    },
    {
      "cell_type": "code",
      "execution_count": 1,
      "metadata": {
        "colab": {
          "base_uri": "https://localhost:8080/"
        },
        "id": "SO2gnqzqfrfm",
        "outputId": "333a5f0c-3881-4eed-9b68-ec61f0ec9c64"
      },
      "outputs": [
        {
          "output_type": "stream",
          "name": "stdout",
          "text": [
            "Mounted at /content/gdrive\n"
          ]
        }
      ],
      "source": [
        "from google.colab import drive\n",
        "drive.mount('/content/gdrive')"
      ]
    },
    {
      "cell_type": "code",
      "source": [
        "cd /content/gdrive/My Drive/data"
      ],
      "metadata": {
        "colab": {
          "base_uri": "https://localhost:8080/"
        },
        "id": "B6QfVPdBhGMY",
        "outputId": "648d2394-ebce-4e70-ba3a-2d563038ef2a"
      },
      "execution_count": 2,
      "outputs": [
        {
          "output_type": "stream",
          "name": "stdout",
          "text": [
            "/content/gdrive/My Drive/data\n"
          ]
        }
      ]
    },
    {
      "cell_type": "code",
      "source": [
        "ls"
      ],
      "metadata": {
        "colab": {
          "base_uri": "https://localhost:8080/"
        },
        "id": "c6JP3MsnhPvi",
        "outputId": "2cd0cf40-1437-4102-86ca-135d20708a86"
      },
      "execution_count": 3,
      "outputs": [
        {
          "output_type": "stream",
          "name": "stdout",
          "text": [
            "'Bitext_Sample_Customer_Service_Training_Dataset.csv - Variations.csv'\n",
            "'Bitext_Sample_Customer_Service_Training_Dataset.xlsx - Variations.csv'\n"
          ]
        }
      ]
    },
    {
      "cell_type": "code",
      "source": [
        "import pandas as pd\n",
        "data = pd.read_csv('Bitext_Sample_Customer_Service_Training_Dataset.csv - Variations.csv')\n",
        "\n",
        "from sklearn.preprocessing import LabelEncoder\n",
        "cols=['flags','utterance','category','intent']\n",
        "le=LabelEncoder()\n",
        "data[cols]=data[cols].apply(lambda col: le.fit_transform(col))\n",
        "\n",
        "from sklearn.neural_network import MLPClassifier\n",
        "from sklearn.metrics import confusion_matrix\n",
        "from sklearn.model_selection import train_test_split\n",
        "X = data.drop('intent',axis=1)\n",
        "Y = data['intent']\n",
        "X_train,X_test,Y_train,Y_test=train_test_split(X,Y,test_size=0.2,random_state=1)\n",
        "model = MLPClassifier(hidden_layer_sizes=(500,),max_iter=1000,activation='logistic',learning_rate=\"adaptive\")\n",
        "model=model.fit(X_train,Y_train)\n",
        "Y_pred = model.predict(X_test)\n",
        "print(\"Accuracy:\",model.score(X_test, Y_test))"
      ],
      "metadata": {
        "colab": {
          "base_uri": "https://localhost:8080/"
        },
        "id": "zbYFOzSAhTPE",
        "outputId": "db051a0c-fb3a-4924-e409-bbd3501a847a"
      },
      "execution_count": 4,
      "outputs": [
        {
          "output_type": "stream",
          "name": "stdout",
          "text": [
            "Accuracy: 0.327217125382263\n"
          ]
        }
      ]
    }
  ]
}